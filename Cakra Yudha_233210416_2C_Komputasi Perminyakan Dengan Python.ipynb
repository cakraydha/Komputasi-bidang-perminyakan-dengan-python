{
 "cells": [
  {
   "cell_type": "markdown",
   "id": "aa7de16d",
   "metadata": {},
   "source": [
    "# 1. Menghitung Volume Reservoir Minyak"
   ]
  },
  {
   "cell_type": "code",
   "execution_count": 1,
   "id": "8dc222c7",
   "metadata": {},
   "outputs": [
    {
     "name": "stdout",
     "output_type": "stream",
     "text": [
      "radius = 90\n",
      "tinggi = 32\n",
      "volume reservoir =  813888.0 meter kubik\n"
     ]
    }
   ],
   "source": [
    "# Input\n",
    "radius = int(input(\"radius = \"))\n",
    "tinggi = int(input(\"tinggi = \"))\n",
    "\n",
    "# Proses menghitung volume reservoir\n",
    "volume = 3.14 * radius ** 2 * tinggi\n",
    "\n",
    "# output volume reservoir\n",
    "print(f\"volume reservoir = {volume: } meter kubik\")"
   ]
  },
  {
   "cell_type": "markdown",
   "id": "f6dfe6ea",
   "metadata": {},
   "source": [
    "# 2. Menghitung Porositas"
   ]
  },
  {
   "cell_type": "code",
   "execution_count": 2,
   "id": "e6f9ce2f",
   "metadata": {},
   "outputs": [
    {
     "name": "stdout",
     "output_type": "stream",
     "text": [
      "vp = 120\n",
      "vb = 20\n",
      "fluks =  600.0 meter kubik\n"
     ]
    }
   ],
   "source": [
    "# Input\n",
    "vp = int(input(\"vp = \"))\n",
    "vb = int(input(\"vb = \"))\n",
    "\n",
    "# Proses menghitung porositas\n",
    "fluks = vp/vb*100\n",
    "\n",
    "# output volume reservoir\n",
    "print(f\"fluks = {fluks: } meter kubik\")"
   ]
  },
  {
   "cell_type": "markdown",
   "id": "cfacbb57",
   "metadata": {},
   "source": [
    "# 3. Menghitung Laju Alir Minyak"
   ]
  },
  {
   "cell_type": "code",
   "execution_count": 6,
   "id": "6279d883",
   "metadata": {},
   "outputs": [
    {
     "name": "stdout",
     "output_type": "stream",
     "text": [
      "volume = 425\n",
      "tinggi = 25\n",
      "Q =  17.0 barel/jam\n"
     ]
    }
   ],
   "source": [
    "# Input\n",
    "v = int(input(\"volume = \"))\n",
    "t = int(input(\"tinggi = \"))\n",
    "\n",
    "# Proses menghitung laju alir minyak\n",
    "Q = v/t\n",
    "\n",
    "# output volume reservoir\n",
    "print(f\"Q = {Q: } barel/jam\")"
   ]
  },
  {
   "cell_type": "markdown",
   "id": "52ba4ba8",
   "metadata": {},
   "source": [
    "# 4. Menghitung Faktor Pemulihan (Recovery Factor) dengan Material Balance Equation"
   ]
  },
  {
   "cell_type": "code",
   "execution_count": 10,
   "id": "a90689bc",
   "metadata": {},
   "outputs": [
    {
     "name": "stdout",
     "output_type": "stream",
     "text": [
      "jumlah minyak diproduksi = 769000\n",
      "jumlah minyak awal = 3300\n",
      "RF = 233.03 meter kubik\n"
     ]
    }
   ],
   "source": [
    "# Input44\n",
    "Np = int(input(\"jumlah minyak diproduksi = \"))\n",
    "N = int(input(\"jumlah minyak awal = \"))\n",
    "\n",
    "# Proses Menghitung Faktor Pemulihan (Recovery Factor) Dengan Material Balance Equation\n",
    "RF = Np/N+(0.1/N)\n",
    "\n",
    "# output volume reservoir\n",
    "print(f\"RF = %.2f\" %(RF), \"meter kubik\")"
   ]
  },
  {
   "cell_type": "code",
   "execution_count": null,
   "id": "b6bd33d7",
   "metadata": {},
   "outputs": [],
   "source": []
  },
  {
   "cell_type": "markdown",
   "id": "dc23e200",
   "metadata": {},
   "source": [
    "# 5. Menghitung Permeabilitas Efektif"
   ]
  },
  {
   "cell_type": "code",
   "execution_count": 12,
   "id": "e436db51",
   "metadata": {},
   "outputs": [
    {
     "name": "stdout",
     "output_type": "stream",
     "text": [
      "permeabilitas relatif air = 0.9\n",
      "saturasi air = 0.3\n",
      "saturasi minyak residual = 0.1\n",
      "kr = 0.029160 meter kubik\n"
     ]
    }
   ],
   "source": [
    "# Input\n",
    "krw = float(input(\"permeabilitas relatif air = \"))\n",
    "Sw = float(input(\"saturasi air = \"))\n",
    "Sor = float(input(\"saturasi minyak residual = \"))\n",
    "\n",
    "# Proses Menghitung Permeabilitas Efektif\n",
    "kr=krw*(Sw**2)*(1-Sor-Sw)**2\n",
    "\n",
    "# output volume reservoir\n",
    "print(f\"kr = {kr:2f} meter kubik\")"
   ]
  }
 ],
 "metadata": {
  "kernelspec": {
   "display_name": "Python 3 (ipykernel)",
   "language": "python",
   "name": "python3"
  },
  "language_info": {
   "codemirror_mode": {
    "name": "ipython",
    "version": 3
   },
   "file_extension": ".py",
   "mimetype": "text/x-python",
   "name": "python",
   "nbconvert_exporter": "python",
   "pygments_lexer": "ipython3",
   "version": "3.11.5"
  }
 },
 "nbformat": 4,
 "nbformat_minor": 5
}
